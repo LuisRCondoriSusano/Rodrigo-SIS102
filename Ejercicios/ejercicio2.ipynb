{
 "cells": [
  {
   "cell_type": "code",
   "execution_count": null,
   "metadata": {},
   "outputs": [],
   "source": [
    "if __name__ == '__main__':\n",
    "    a = int(input(\"\"))\n",
    "    b = int(input(\"\"))\n",
    "    suma=a+b\n",
    "    resta=a-b\n",
    "    mul=a*b\n",
    "    print(suma)\n",
    "    print(resta)\n",
    "    print(mul)\n"
   ]
  }
 ],
 "metadata": {
  "language_info": {
   "name": "python"
  }
 },
 "nbformat": 4,
 "nbformat_minor": 2
}
